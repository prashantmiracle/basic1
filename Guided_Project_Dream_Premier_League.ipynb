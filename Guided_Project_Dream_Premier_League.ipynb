{
  "nbformat": 4,
  "nbformat_minor": 0,
  "metadata": {
    "colab": {
      "provenance": []
    },
    "kernelspec": {
      "name": "python3",
      "display_name": "Python 3"
    }
  },
  "cells": [
    {
      "cell_type": "markdown",
      "metadata": {
        "id": "8hjlpv4ix8LQ"
      },
      "source": [
        "# <u>Dream Premier League (DPL)</u>\n",
        "\n",
        "### A match of DPL is going on. Team Aravali has a made score of **195** for **7** in **20** overs and the opponent Team Shivalik is doing some analytics to find out what they need to do to win. You are the Data Scientist of the Team Shivalik and you have been asked to help them."
      ]
    },
    {
      "cell_type": "markdown",
      "metadata": {
        "id": "JkqzpQzX54Z-"
      },
      "source": [
        "## <u>Problem 1</u>\n",
        " \n",
        "###Team Shivalik has stored the runs made by Team Aravali players in the following dictionary.\n",
        "\n"
      ]
    },
    {
      "cell_type": "code",
      "metadata": {
        "id": "rypcBaB37JMD"
      },
      "source": [
        "aravali ={ \"Dhoni\":25, \"Virat\":31, \"Pollard\":11, \"Rohit\": 0, \"Maxwell\":12, \"Sachin\":59, \"Sehwag\":12 }"
      ],
      "execution_count": null,
      "outputs": []
    },
    {
      "cell_type": "markdown",
      "metadata": {
        "id": "747H1msbg-ns"
      },
      "source": [
        "### Get the list of all players in Team Aravali"
      ]
    },
    {
      "cell_type": "code",
      "metadata": {
        "id": "poP0TCGdhLuj",
        "colab": {
          "base_uri": "https://localhost:8080/"
        },
        "outputId": "cd149e17-42fb-4565-9561-06297d4f5dc8"
      },
      "source": [
        "# Get the list of players in Team Aravali\n",
        "list(aravali.keys())"
      ],
      "execution_count": null,
      "outputs": [
        {
          "output_type": "execute_result",
          "data": {
            "text/plain": [
              "['Dhoni', 'Virat', 'Pollard', 'Rohit', 'Maxwell', 'Sachin', 'Sehwag']"
            ]
          },
          "metadata": {},
          "execution_count": 8
        }
      ]
    },
    {
      "cell_type": "markdown",
      "metadata": {
        "id": "YypMEr-i7fCE"
      },
      "source": [
        "## <u>Problem 2</u>\n",
        "\n",
        "### By mistake, the runs made by Rohit was recorded as <code>0</code>. Your next task is to figure out how many runs were made by Rohit and update the dictionary"
      ]
    },
    {
      "cell_type": "code",
      "metadata": {
        "id": "DZTXlt9I51vd"
      },
      "source": [
        "# We know the total runs\n",
        "\n",
        "total_run=195\n",
        "\n",
        "Rohit_runs=total_run-sum(list(aravali.values()))\n",
        "\n"
      ],
      "execution_count": null,
      "outputs": []
    },
    {
      "cell_type": "code",
      "metadata": {
        "id": "N46LGzE97waZ",
        "colab": {
          "base_uri": "https://localhost:8080/"
        },
        "outputId": "727c33a5-f7f2-4d19-e9c3-7ec235e01144"
      },
      "source": [
        "# Print runs scored by Rohit\n",
        "Rohit_runs"
      ],
      "execution_count": null,
      "outputs": [
        {
          "output_type": "execute_result",
          "data": {
            "text/plain": [
              "45"
            ]
          },
          "metadata": {},
          "execution_count": 10
        }
      ]
    },
    {
      "cell_type": "code",
      "metadata": {
        "id": "4rTAegi67zOq",
        "colab": {
          "base_uri": "https://localhost:8080/"
        },
        "outputId": "5bb1ca1b-98b1-4ce6-e9e5-1efde1567101"
      },
      "source": [
        "# Update the dictionary with correct value of runs\n",
        "\n",
        "aravali['Rohit']=Rohit_runs\n",
        "print(aravali)"
      ],
      "execution_count": null,
      "outputs": [
        {
          "output_type": "stream",
          "name": "stdout",
          "text": [
            "{'Dhoni': 25, 'Virat': 31, 'Pollard': 11, 'Rohit': 45, 'Maxwell': 12, 'Sachin': 59, 'Sehwag': 12}\n"
          ]
        }
      ]
    },
    {
      "cell_type": "markdown",
      "metadata": {
        "id": "iM1FJFlWh7C5"
      },
      "source": [
        "## <u>Problem 4</u>\n",
        "\n",
        "#### Your next task is to find out who scored the second highest runs in Team Aravali"
      ]
    },
    {
      "cell_type": "code",
      "metadata": {
        "id": "YPdfTlsKiWVx",
        "colab": {
          "base_uri": "https://localhost:8080/"
        },
        "outputId": "99bf4cac-5a24-4b19-c688-8ab78b61491f"
      },
      "source": [
        "from typing import Dict\n",
        "# Your code below\n",
        "\n",
        "x=list(aravali.values())\n",
        "x.sort()\n",
        "reversed_aravali= dict(map(reversed,aravali.items()))\n",
        "print(f\"second highest run achieved by {reversed_aravali[x[-2]]}\")\n"
      ],
      "execution_count": null,
      "outputs": [
        {
          "output_type": "stream",
          "name": "stdout",
          "text": [
            "second highest run achieved by Rohit\n"
          ]
        }
      ]
    },
    {
      "cell_type": "markdown",
      "metadata": {
        "id": "se80XQGBGekX"
      },
      "source": [
        "## <u>Problem 4</u>\n",
        "\n",
        "#### Just out of curiosity, you want to find out the unique runs made by Team Aravali players."
      ]
    },
    {
      "cell_type": "code",
      "metadata": {
        "id": "X-XQWW4lGZaG"
      },
      "source": [
        "# Your code below\n",
        "run_set = set(aravali.values())"
      ],
      "execution_count": null,
      "outputs": []
    },
    {
      "cell_type": "code",
      "metadata": {
        "id": "GL56nYUzF6hs",
        "colab": {
          "base_uri": "https://localhost:8080/"
        },
        "outputId": "2f4d494b-4e4f-4e66-e8fe-7631c7f34707"
      },
      "source": [
        "# Print the unique runs\n",
        "run_set"
      ],
      "execution_count": null,
      "outputs": [
        {
          "output_type": "execute_result",
          "data": {
            "text/plain": [
              "{11, 12, 25, 31, 45, 59}"
            ]
          },
          "metadata": {},
          "execution_count": 24
        }
      ]
    },
    {
      "cell_type": "markdown",
      "metadata": {
        "id": "IJvnHaNzeGMP"
      },
      "source": [
        "## <u>Problem 5</u>\n",
        "#### Team Shivalik has 6 fixed players and 5 slots for players who are playing good currently. Create two collections using appropriate data structure to write this 6 fixed and 5 mutable players. You can choose any player you want.\n",
        "\n",
        "#### Available Players in the squad : \n",
        "<code>['Vijay', 'Lasith', 'Dravid', 'Smith', 'Ambati', 'Hardik', 'Sushant', 'Mandeep', 'Harbhajan', 'Yuvraj', 'Jadeja','Rajeev','Amrit']\n"
      ]
    },
    {
      "cell_type": "code",
      "metadata": {
        "id": "-0hTOMTQdEXE"
      },
      "source": [
        "# Your code below\n",
        "fixed = ('Vijay', 'Lasith', 'Dravid', 'Smith', 'Ambati', 'Hardik')\n",
        "mutable =['Sushant','Mandeep', 'Harbhajan', 'Yuvraj', 'Jadeja','Rajeev','Amrit']"
      ],
      "execution_count": null,
      "outputs": []
    },
    {
      "cell_type": "code",
      "metadata": {
        "id": "1PEvrGDwfjc5",
        "colab": {
          "base_uri": "https://localhost:8080/"
        },
        "outputId": "8907c344-3546-4ced-c96d-5757232e3a32"
      },
      "source": [
        "# Print them on same line using comma to seperate them\n",
        "print(fixed,mutable)"
      ],
      "execution_count": null,
      "outputs": [
        {
          "output_type": "stream",
          "name": "stdout",
          "text": [
            "('Vijay', 'Lasith', 'Dravid', 'Smith', 'Ambati', 'Hardik') ['Sushant', 'Mandeep', 'Harbhajan', 'Yuvraj', 'Jadeja', 'Rajeev', 'Amrit']\n"
          ]
        }
      ]
    },
    {
      "cell_type": "markdown",
      "metadata": {
        "id": "N-VdT09NfhL6"
      },
      "source": [
        "## <u>Problem 6</u>\n",
        "Try changing fixed player and mutable player"
      ]
    },
    {
      "cell_type": "code",
      "metadata": {
        "id": "E4lN-bxbffnF",
        "colab": {
          "base_uri": "https://localhost:8080/"
        },
        "outputId": "bdaee4d4-579c-4cf3-fad6-e8ae9e64a9b2"
      },
      "source": [
        "# Change fixed player\n",
        "x=list(fixed)\n",
        "x[0]=\"shyam\"\n",
        "x"
      ],
      "execution_count": null,
      "outputs": [
        {
          "output_type": "execute_result",
          "data": {
            "text/plain": [
              "['shyam', 'Lasith', 'Dravid', 'Smith', 'Ambati', 'Hardik']"
            ]
          },
          "metadata": {},
          "execution_count": 58
        }
      ]
    },
    {
      "cell_type": "code",
      "metadata": {
        "id": "mbfWHggRgYJK",
        "colab": {
          "base_uri": "https://localhost:8080/"
        },
        "outputId": "88e7eba4-f3a2-4c37-e2be-a314d47e2e09"
      },
      "source": [
        "# Change mutable player\n",
        "mutable[0]=\"shyam\"\n",
        "mutable"
      ],
      "execution_count": null,
      "outputs": [
        {
          "output_type": "execute_result",
          "data": {
            "text/plain": [
              "['shyam', 'Mandeep', 'Harbhajan', 'Yuvraj', 'Jadeja', 'Rajeev', 'Amrit']"
            ]
          },
          "metadata": {},
          "execution_count": 54
        }
      ]
    },
    {
      "cell_type": "markdown",
      "metadata": {
        "id": "KHrH5V0HFFhq"
      },
      "source": [
        "## <u> Problem 7</u>\n",
        "\n",
        "#### Find out the runrate required for Team Shivalik to win (for 20 overs)<br> \n",
        "#### Hint: Runrate is runs required per over to win the match"
      ]
    },
    {
      "cell_type": "code",
      "metadata": {
        "id": "QFd1CnS5E79X"
      },
      "source": [
        "# Your code here\n",
        "runrate = 196/20"
      ],
      "execution_count": null,
      "outputs": []
    },
    {
      "cell_type": "code",
      "metadata": {
        "id": "7f5Mnj93Ft3a",
        "colab": {
          "base_uri": "https://localhost:8080/"
        },
        "outputId": "16ff45c3-c2e0-4467-a516-f64f6faaa320"
      },
      "source": [
        "# Print the run rate\n",
        "print(runrate)"
      ],
      "execution_count": null,
      "outputs": [
        {
          "output_type": "stream",
          "name": "stdout",
          "text": [
            "9.8\n"
          ]
        }
      ]
    },
    {
      "cell_type": "markdown",
      "metadata": {
        "id": "uukQzwZQNwBE"
      },
      "source": [
        "## <u> Problem 8</u>\n",
        "#### You have just received a secret message form your informant stating that some players of the other team are into match fixing. You have to decode a message and inform authorities about it.<br>\n",
        "\n",
        "#### You received a string **\"skdlfjnvuerhw qefnnaosfu qrhviudhfv wuirhv adknlkxjcier vafuvhkajn iuvhsf vasuif KJSHFKJ aeuihvasf akjfhiufe\"** and index of \"i\" are going to be \"no balls\".\n",
        "\n",
        "\n",
        "### Find the first and last no ball from the string."
      ]
    },
    {
      "cell_type": "code",
      "metadata": {
        "id": "qJpki-fNJxvr"
      },
      "source": [
        "#First no ball\n",
        "message = \"skdlfjnvuerhw qefnnaosfu qrhviudhfv wuirhv adknlkxjcier vafuvhkajn iuvhsf vasuif KJSHFKJ aeuihvasf akjfhiufe\"\n",
        "x=message.find(\"i\")\n",
        "\n",
        "\n",
        "# Last no ball\n",
        "y=len(message)-message[::-1].find(\"i\")"
      ],
      "execution_count": null,
      "outputs": []
    },
    {
      "cell_type": "code",
      "metadata": {
        "id": "8qMvmZydQAlr",
        "colab": {
          "base_uri": "https://localhost:8080/"
        },
        "outputId": "1311cbed-a1b9-4fd9-a590-bc8d9f593fdf"
      },
      "source": [
        "# Print the first and last ball numbers\n",
        "\n",
        "print(f\"first ball no {x} and last ball no {y}\")"
      ],
      "execution_count": null,
      "outputs": [
        {
          "output_type": "stream",
          "name": "stdout",
          "text": [
            "first ball no 29 and last ball no 105\n"
          ]
        }
      ]
    },
    {
      "cell_type": "markdown",
      "metadata": {
        "id": "dOIGKmlKaV8j"
      },
      "source": [
        "## <u>Problem 9</u>\n",
        "\n",
        "### You have given the information about fixing to the authorities and they are going to verify it during the match. But still you have to work on your strategy.\n",
        "\n",
        "### It is in your hands to automate the decision on who goes on 4th position for batting depending on following criteria:\n",
        "\n",
        "* if runs made by Team Shivalik is less than 50, Smith will play\n",
        "* if runs are between 51 to 100 then Sir Jadeja will go\n",
        "* if runs are above 100 then Hardik will play"
      ]
    },
    {
      "cell_type": "code",
      "metadata": {
        "id": "DpnGURU1Y-Af",
        "colab": {
          "base_uri": "https://localhost:8080/"
        },
        "outputId": "4b059700-1f6e-4bf4-fb4b-7b1a87de93f5"
      },
      "source": [
        "# Your code below\n",
        "x=[]\n",
        "B_runs = int(input())\n",
        "if B_runs>0 and B_runs<50:\n",
        "  x='smith'\n",
        "elif B_runs>51 and B_runs<100:\n",
        "  x=\"Jadeja\"\n",
        "elif B_runs>100:\n",
        "  x='Hardik'\n",
        "else:\n",
        "  print(\"invalid entry\")\n",
        "\n",
        "print(f\"{x} will play\")\n",
        "\n",
        "\n"
      ],
      "execution_count": null,
      "outputs": [
        {
          "output_type": "stream",
          "name": "stdout",
          "text": [
            "-30\n",
            "invalid entry\n",
            "[] will play\n"
          ]
        }
      ]
    },
    {
      "cell_type": "markdown",
      "metadata": {
        "id": "kLakmjOYmKMM"
      },
      "source": [
        "# Hurray! Turns out you won the match and the guilty players are punished as well. You should be proud of yourself!"
      ]
    },
    {
      "cell_type": "code",
      "metadata": {
        "id": "8xRCkwJ76n_I"
      },
      "source": [],
      "execution_count": null,
      "outputs": []
    }
  ]
}