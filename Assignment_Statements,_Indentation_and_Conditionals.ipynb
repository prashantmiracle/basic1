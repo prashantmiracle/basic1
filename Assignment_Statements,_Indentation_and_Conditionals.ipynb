{
  "nbformat": 4,
  "nbformat_minor": 0,
  "metadata": {
    "kernelspec": {
      "display_name": "Python 3",
      "language": "python",
      "name": "python3"
    },
    "language_info": {
      "codemirror_mode": {
        "name": "ipython",
        "version": 3
      },
      "file_extension": ".py",
      "mimetype": "text/x-python",
      "name": "python",
      "nbconvert_exporter": "python",
      "pygments_lexer": "ipython3",
      "version": "3.7.4"
    },
    "colab": {
      "provenance": []
    }
  },
  "cells": [
    {
      "cell_type": "markdown",
      "metadata": {
        "id": "8WbUJEVzs8Bx"
      },
      "source": [
        "## <u>While doing this assignment only use those concepts which have been taught till now</u>"
      ]
    },
    {
      "cell_type": "markdown",
      "metadata": {
        "id": "KjPWYK0Rs8By"
      },
      "source": [
        "## <u>Problem 1</u>\n",
        "\n",
        "### As an analyst, you had to present the quarterly performance results of your client. The data which you were provided was on daily basis. To complete this task, you needed to extract the quarter from a given date. For example:\n",
        "\n",
        "* if the date lies between 1st Jan, 2020 - 31st March, 2020, you need to extract the corresponding quarter as '2020-Q1'\n",
        "\n",
        "* if the date lies between 1st April, 2020 - 30th June, 2020, the extracted quarter will be '2020-Q2'\n",
        "\n",
        "* if the date lies between 1st July, 2020 - 30th September, 2020, the extracted quarter will be '2020-Q3' \n",
        "\n",
        "* if the date lies between 1st October, 2020 - 31st Decemeber, 2020 then the extracted quarter will be '2020-Q4'\n"
      ]
    },
    {
      "cell_type": "code",
      "metadata": {
        "id": "RxVZTrenzfHC",
        "colab": {
          "base_uri": "https://localhost:8080/"
        },
        "outputId": "1b00ad02-7519-487a-f314-3f35d93a1a23"
      },
      "source": [
        "# Take a proper date input from the user in the format YYYY-MM-DD. Consider this date as a string\n",
        "user_date = input()"
      ],
      "execution_count": null,
      "outputs": [
        {
          "name": "stdout",
          "output_type": "stream",
          "text": [
            "2020-09-01\n"
          ]
        }
      ]
    },
    {
      "cell_type": "code",
      "metadata": {
        "id": "N1Yhpkiws8B3",
        "colab": {
          "base_uri": "https://localhost:8080/"
        },
        "outputId": "c313fd48-f642-4f26-ca3f-efc118065d37"
      },
      "source": [
        "# Write your code using if else statements to extract the quarter\n",
        "\n",
        "date_year,date_month,date_day= user_date.split('-') \n",
        "date_year=int(date_year)\n",
        "date_month=int(date_month)\n",
        "date_day=int(date_day)\n",
        "\n",
        "if date_year==2020 and ((date_month-1)//3)==0:\n",
        "  quarter=str(date_year)+'-'+'Q'+'1'\n",
        "  print(quarter)\n",
        "elif date_year==2020 and ((date_month-1)//3)==1: \n",
        "  quarter=str(date_year)+'-'+'Q'+'2'\n",
        "  print(quarter)\n",
        "elif date_year==2020 and ((date_month-1)//3)==2: \n",
        "  quarter=str(date_year)+'-'+'Q'+'3'\n",
        "  print(quarter)\n",
        "elif date_year==2020 and ((date_month-1)//3)==3: \n",
        "  quarter=str(date_year)+'-'+'Q'+'4'\n",
        "  print(quarter)\n",
        "else:\n",
        "    print(\"invalid\")\n",
        "\n",
        "# Store the quarter value in a string variable named quarter\n",
        "\n"
      ],
      "execution_count": null,
      "outputs": [
        {
          "output_type": "stream",
          "name": "stdout",
          "text": [
            "2020-Q3\n"
          ]
        }
      ]
    },
    {
      "cell_type": "code",
      "metadata": {
        "id": "KpMdlB5Fs8B8",
        "colab": {
          "base_uri": "https://localhost:8080/"
        },
        "outputId": "548bb382-e83a-4c66-be0a-2f95b6716301"
      },
      "source": [
        "# Print the extracted quarter\n",
        "print(quarter)"
      ],
      "execution_count": null,
      "outputs": [
        {
          "output_type": "stream",
          "name": "stdout",
          "text": [
            "2020Q-2\n"
          ]
        }
      ]
    },
    {
      "cell_type": "markdown",
      "metadata": {
        "id": "5qd8g8UUs8CM"
      },
      "source": [
        "## <u>Problem 2 </u>\n",
        "\n",
        "* You went out in your local neighbourhood to collect the data of people residing in the locale. You surveyed 5 people and collected some data and stored that in a dictionary. You recorded their names, their age, their sex, their heights(in cms) and their weights(in kgs)"
      ]
    },
    {
      "cell_type": "code",
      "metadata": {
        "id": "FBJy9Sq_s8CN"
      },
      "source": [
        "# Surveyed data \n",
        "\n",
        "locality_data = {'Name' : ['Abhinav','Sohail','Dheeraj','Rashmi','Vaishali'],\n",
        "                  'Age' : [42,29,35,28,32],\n",
        "                  'Sex' : ['Male', 'Male','Male','Female','Female'] , \n",
        "                  'Height' : [172,175,170,168,170],\n",
        "                  'Weight' : [70,82,60,55,64]\n",
        "                 }"
      ],
      "execution_count": null,
      "outputs": []
    },
    {
      "cell_type": "markdown",
      "metadata": {
        "id": "2_rBSgqz5Ums"
      },
      "source": [
        "* Find the mean and median heights and weights of the people in your locality"
      ]
    },
    {
      "cell_type": "code",
      "metadata": {
        "id": "zywXa51d6Eev",
        "colab": {
          "base_uri": "https://localhost:8080/"
        },
        "outputId": "fa41a1e0-9392-4f49-ca35-a538503c8c75"
      },
      "source": [
        "# Calculate the mean height and print it\n",
        "\n",
        "height_mean=sum(locality_data['Height'])/len(locality_data['Height'])\n",
        "print(height_mean)\n",
        "\n",
        "# Calculate the median height and print it\n",
        "\n",
        "if len(locality_data['Height'])/2==0:\n",
        "  x=len(locality_data['Height'])\n",
        "  y=locality_data['Height']\n",
        "  y.sort()\n",
        "  height_median= (y[x/2+1]+y[x/2])/2\n",
        "  print(height_median)\n",
        "else:\n",
        "  x=len(locality_data['Height'])\n",
        "  y=locality_data['Height']\n",
        "  y.sort()\n",
        "  height_median= y[int(x/2)]\n",
        "  print(height_median)\n",
        "\n",
        "# Calculate the mean weight and print it\n",
        "\n",
        "weight_mean=sum(locality_data['Weight'])/len(locality_data['Weight'])\n",
        "print(weight_mean)\n",
        "\n",
        "# Calculate the median weight and print it\n",
        "\n",
        "if len(locality_data['Weight'])/2==0:\n",
        "  x=len(locality_data['Weight'])\n",
        "  y=locality_data['Weight']\n",
        "  y.sort()\n",
        "  Weight_median= (y[x/2+1]+y[x/2])/2\n",
        "  print(Weight_median)\n",
        "else:\n",
        "  x=len(locality_data['Weight'])\n",
        "  y=locality_data['Weight']\n",
        "  y.sort()\n",
        "  Weight_median= y[int(x/2)]\n",
        "  print(Weight_median)\n"
      ],
      "execution_count": null,
      "outputs": [
        {
          "output_type": "stream",
          "name": "stdout",
          "text": [
            "171.0\n",
            "170\n",
            "66.2\n",
            "64\n"
          ]
        }
      ]
    },
    {
      "cell_type": "markdown",
      "metadata": {
        "id": "yLb5awgPQeYA"
      },
      "source": [
        "* Write a Python code to print the first three elements from the list of age values corresponding to the key 'Age'"
      ]
    },
    {
      "cell_type": "code",
      "metadata": {
        "id": "wef2fVgx6Gji",
        "colab": {
          "base_uri": "https://localhost:8080/"
        },
        "outputId": "88b895a0-465a-4ad5-bbb4-742b2195795d"
      },
      "source": [
        "# Python code to print the first three elements for the key 'Age'\n",
        "\n",
        "ages = locality_data['Age'][:3]\n",
        "print(ages)\n"
      ],
      "execution_count": null,
      "outputs": [
        {
          "output_type": "stream",
          "name": "stdout",
          "text": [
            "[42, 29, 35]\n"
          ]
        }
      ]
    },
    {
      "cell_type": "markdown",
      "metadata": {
        "id": "NGrZaqulRIM1"
      },
      "source": [
        "* Write a Python code to print the last two elements of the name list if the list of values corresponding to the key 'Name' contains the element 'Rashmi' else print 'Name not found'"
      ]
    },
    {
      "cell_type": "code",
      "metadata": {
        "id": "TBRZzwAcRTNL",
        "colab": {
          "base_uri": "https://localhost:8080/"
        },
        "outputId": "c01f7911-8957-4019-fbf1-8ead8bde42e8"
      },
      "source": [
        "Names= locality_data['Name'][-2:]\n",
        "if 'Rashmi' in Names:\n",
        "  print(Names)\n",
        "else:\n",
        "  print('Name not found')\n"
      ],
      "execution_count": null,
      "outputs": [
        {
          "output_type": "stream",
          "name": "stdout",
          "text": [
            "['Rashmi', 'Vaishali']\n"
          ]
        }
      ]
    },
    {
      "cell_type": "markdown",
      "metadata": {
        "id": "ejRCi-vTs8CU"
      },
      "source": [
        "## <u> Problem 3 </u>\n",
        "\n",
        "A student will not be allowed to sit in exam if his/her attendence is less than 75%.\n",
        "\n",
        "Take following input from user\n",
        "* Number of classes held\n",
        "* Number of classes attended."
      ]
    },
    {
      "cell_type": "code",
      "metadata": {
        "id": "C5olNuDGs8CU",
        "colab": {
          "base_uri": "https://localhost:8080/"
        },
        "outputId": "190fab26-84cb-49c6-bbd5-57fe3ab19fc6"
      },
      "source": [
        "# Enter your input\n",
        "\n",
        "print(\"Number of classes held\")\n",
        "classes_held = int(input())\n",
        "\n",
        "print(\"Number of classes attended\")\n",
        "classes_attended = int(input())"
      ],
      "execution_count": null,
      "outputs": [
        {
          "name": "stdout",
          "output_type": "stream",
          "text": [
            "Number of classes held\n",
            "20\n",
            "Number of classes attended\n",
            "15\n"
          ]
        }
      ]
    },
    {
      "cell_type": "code",
      "metadata": {
        "id": "i553Hqamm2jR",
        "colab": {
          "base_uri": "https://localhost:8080/"
        },
        "outputId": "9e28edc9-dddc-4809-cc75-3994a3fa0404"
      },
      "source": [
        "# Calculate the attendance percentage\n",
        "attendance = classes_attended*100/classes_held\n",
        "\n",
        "print(f'The attendance is {attendance}')"
      ],
      "execution_count": null,
      "outputs": [
        {
          "output_type": "stream",
          "name": "stdout",
          "text": [
            "The attendance is 75.0\n"
          ]
        }
      ]
    },
    {
      "cell_type": "markdown",
      "metadata": {
        "id": "QYDpXSANnKxV"
      },
      "source": [
        "And print the following statements based on the condition above\n",
        "\n",
        "* percentage of class attended\n",
        "* Is student is allowed to sit in exam or not."
      ]
    },
    {
      "cell_type": "code",
      "metadata": {
        "id": "SoQ3P0yym2ts",
        "colab": {
          "base_uri": "https://localhost:8080/"
        },
        "outputId": "1f7876cb-3cdf-4d98-b64d-c84db24a0a89"
      },
      "source": [
        "# Your code here \n",
        "if attendance<0.75:\n",
        "  print(f\"student is not allowed to sit in exam due to class attended % is { attendance} \")\n",
        "else:\n",
        "  print(f\"student is allowed to sit in exam  his total attendance % is { attendance}  \")"
      ],
      "execution_count": null,
      "outputs": [
        {
          "output_type": "stream",
          "name": "stdout",
          "text": [
            "student is allowed to sit in exam  his total attendance % is 75.0  \n"
          ]
        }
      ]
    },
    {
      "cell_type": "markdown",
      "metadata": {
        "id": "P1rOYC8Is8Cf"
      },
      "source": [
        "## <u>Problem 4</u>\n",
        "\n",
        "### A school has following rules for grading system:\n",
        "* Below 25 - F\n",
        "* 25 to 45 - E\n",
        "* 45 to 50 - D\n",
        "* 50 to 60 - C\n",
        "* 60 to 80 - B\n",
        "* Above 80 - A\n",
        "\n",
        "Keep the left number inclusive and the right number exclusive, something like [25,45) for grade E where the set is closed at 25 and open at 45.\n",
        "\n",
        "Write a Python code which takes marks as inputs from the user and print the corresponding grade."
      ]
    },
    {
      "cell_type": "code",
      "metadata": {
        "id": "ySeGyCtCs8Cg",
        "colab": {
          "base_uri": "https://localhost:8080/"
        },
        "outputId": "c7392e77-9506-48c0-88c2-26efc9da895d"
      },
      "source": [
        "# Your input here \n",
        "print(\"Enter your marks\")\n",
        "marks = int(input())"
      ],
      "execution_count": null,
      "outputs": [
        {
          "name": "stdout",
          "output_type": "stream",
          "text": [
            "Enter your marks\n",
            "24\n"
          ]
        }
      ]
    },
    {
      "cell_type": "code",
      "metadata": {
        "id": "MI7mOHaqs8Cj",
        "colab": {
          "base_uri": "https://localhost:8080/"
        },
        "outputId": "ae14d828-0030-4152-91fa-63d90d2c6468"
      },
      "source": [
        "# Your code here to print the corresponding grade\n",
        "if marks<25:\n",
        "  print(\"Grade F\")\n",
        "elif marks>=25 and marks<45:\n",
        "  print(\"E\")\n",
        "elif marks>=45 and marks<50:\n",
        "  print(\"D\")\n",
        "elif marks>=50 and marks<60:\n",
        "  print(\"c\")\n",
        "elif marks>=60 and marks<80:\n",
        "  print(\"B\")\n",
        "elif marks>=80:\n",
        "  print(\"A\")\n",
        "else:\n",
        "  print(\"invalid\")\n",
        "\n"
      ],
      "execution_count": null,
      "outputs": [
        {
          "output_type": "stream",
          "name": "stdout",
          "text": [
            "Grade F\n"
          ]
        }
      ]
    }
  ]
}