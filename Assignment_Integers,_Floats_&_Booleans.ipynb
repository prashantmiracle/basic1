{
  "nbformat": 4,
  "nbformat_minor": 0,
  "metadata": {
    "kernelspec": {
      "display_name": "Python 3",
      "language": "python",
      "name": "python3"
    },
    "language_info": {
      "codemirror_mode": {
        "name": "ipython",
        "version": 3
      },
      "file_extension": ".py",
      "mimetype": "text/x-python",
      "name": "python",
      "nbconvert_exporter": "python",
      "pygments_lexer": "ipython3",
      "version": "3.7.4"
    },
    "colab": {
      "provenance": []
    }
  },
  "cells": [
    {
      "cell_type": "markdown",
      "metadata": {
        "id": "JRdjdmztDelX"
      },
      "source": [
        "## <u>While doing this assignment only use those concepts which have been taught till now</u>"
      ]
    },
    {
      "cell_type": "markdown",
      "metadata": {
        "id": "8ECk3jeWDelY"
      },
      "source": [
        "## <u>Problem 1</u>\n",
        "\n",
        "In a cricket tournament, based on the outcome of a particular match a team gets following points:\n",
        "* <code>wins</code> gets <code>3</code> points\n",
        "* <code>draws</code> gets <code>1</code> points\n",
        "* <code>losses</code> gets <code>0</code> points\n",
        "\n",
        "Team Aravali plays <code>8</code> matches in this tournament. It wins <code>4</code> matches, loses <code>3</code> matches and draws <code>1</code>. What is the total number of points gained by the Team Aravali?"
      ]
    },
    {
      "cell_type": "code",
      "metadata": {
        "id": "m68YV3OhDelZ"
      },
      "source": [
        "# The outcome variables are defined below\n",
        "wins = 4\n",
        "losses = 3\n",
        "draws = 1"
      ],
      "execution_count": null,
      "outputs": []
    },
    {
      "cell_type": "code",
      "metadata": {
        "id": "2cnTsWvODelc"
      },
      "source": [
        "# Calculate the total points gained by Team Aravali\n",
        "aravali_points = ((wins*3)+(draws*1)+(losses)*0)"
      ],
      "execution_count": null,
      "outputs": []
    },
    {
      "cell_type": "code",
      "metadata": {
        "id": "4ccas7cPDelf",
        "colab": {
          "base_uri": "https://localhost:8080/"
        },
        "outputId": "5b46ae57-43d7-4dd0-9743-1bb7d74bb457"
      },
      "source": [
        "# Print the variable aravali_points\n",
        "print(aravali_points)"
      ],
      "execution_count": null,
      "outputs": [
        {
          "output_type": "stream",
          "name": "stdout",
          "text": [
            "13\n"
          ]
        }
      ]
    },
    {
      "cell_type": "markdown",
      "metadata": {
        "id": "-ioInfYKDelh"
      },
      "source": [
        "## <u>Problem 2 </u>\n",
        "\n",
        "* Root of a function $f(x)$ is defined as the value $x$ where $f(x)=0$ \n",
        "* Consider a quadratic function $ f(x) = x^2 + 3x - 4$\n",
        "\n",
        "### Find the value of the function $f(x)$ at points   $x=2,x=-1, x=1$."
      ]
    },
    {
      "cell_type": "code",
      "metadata": {
        "id": "4_HZwes5Delh"
      },
      "source": [
        "# Calculate the value of the function f(x) at x = 2\n",
        "x=2\n",
        "func_evaluated_at_2=(x**2)+(3*x)-4"
      ],
      "execution_count": null,
      "outputs": []
    },
    {
      "cell_type": "code",
      "metadata": {
        "id": "zBkLIXk2Dell",
        "colab": {
          "base_uri": "https://localhost:8080/"
        },
        "outputId": "0f821759-3123-46da-9a1d-0c654a585028"
      },
      "source": [
        "# Print the value below\n",
        "print(func_evaluated_at_2)"
      ],
      "execution_count": null,
      "outputs": [
        {
          "output_type": "stream",
          "name": "stdout",
          "text": [
            "6\n"
          ]
        }
      ]
    },
    {
      "cell_type": "code",
      "metadata": {
        "id": "uD4MAyKIDelo"
      },
      "source": [
        "# Calculate the value of the function f(x) at x = -1\n",
        "x=-1\n",
        "func_evaluated_at_minus1 = (x**2)+(3*x)-4"
      ],
      "execution_count": null,
      "outputs": []
    },
    {
      "cell_type": "code",
      "metadata": {
        "id": "Jx9WVMQ2Delq",
        "colab": {
          "base_uri": "https://localhost:8080/"
        },
        "outputId": "7cd57746-0411-462a-dbe2-973dbd04391b"
      },
      "source": [
        "# Print the value below\n",
        "print(func_evaluated_at_minus1 )"
      ],
      "execution_count": null,
      "outputs": [
        {
          "output_type": "stream",
          "name": "stdout",
          "text": [
            "-6\n"
          ]
        }
      ]
    },
    {
      "cell_type": "code",
      "metadata": {
        "id": "h8PgF85VDelu"
      },
      "source": [
        "# Calculate the value of the function f(x) at x = 1\n",
        "x=1\n",
        "func_evaluated_at_1 = (x**2)+(3*x)-4"
      ],
      "execution_count": null,
      "outputs": []
    },
    {
      "cell_type": "code",
      "metadata": {
        "id": "BdrFgug6Delw",
        "colab": {
          "base_uri": "https://localhost:8080/"
        },
        "outputId": "03b7364d-abca-404a-9906-aeee21c84f9a"
      },
      "source": [
        "# Print the type of the variable below\n",
        "print(func_evaluated_at_1)\n",
        "type(func_evaluated_at_1)"
      ],
      "execution_count": null,
      "outputs": [
        {
          "output_type": "stream",
          "name": "stdout",
          "text": [
            "0\n"
          ]
        },
        {
          "output_type": "execute_result",
          "data": {
            "text/plain": [
              "int"
            ]
          },
          "metadata": {},
          "execution_count": 11
        }
      ]
    },
    {
      "cell_type": "markdown",
      "metadata": {
        "id": "EvldlcwqDelz"
      },
      "source": [
        "### Return the boolean for each value of $x$ to find out whether that value is a root of $f(x)$"
      ]
    },
    {
      "cell_type": "code",
      "metadata": {
        "id": "-tUSAgzgDel0",
        "colab": {
          "base_uri": "https://localhost:8080/"
        },
        "outputId": "61b8d369-b7cf-4a0a-b237-d6e1396e5014"
      },
      "source": [
        "# Check whether 2 is a root of f(x)\n",
        "func_evaluated_at_2 == 0"
      ],
      "execution_count": null,
      "outputs": [
        {
          "output_type": "execute_result",
          "data": {
            "text/plain": [
              "False"
            ]
          },
          "metadata": {},
          "execution_count": 21
        }
      ]
    },
    {
      "cell_type": "code",
      "metadata": {
        "id": "gsNS4Ki4Del2",
        "colab": {
          "base_uri": "https://localhost:8080/"
        },
        "outputId": "c9955734-e1c2-46a0-f1f3-fe91e6d9db18"
      },
      "source": [
        "# Check whether -1 is a root of f(x)\n",
        "func_evaluated_at_minus1==0"
      ],
      "execution_count": null,
      "outputs": [
        {
          "output_type": "execute_result",
          "data": {
            "text/plain": [
              "False"
            ]
          },
          "metadata": {},
          "execution_count": 22
        }
      ]
    },
    {
      "cell_type": "code",
      "metadata": {
        "id": "yExDY-ZXDel4",
        "colab": {
          "base_uri": "https://localhost:8080/"
        },
        "outputId": "99d419db-6a5a-4aef-c2d0-eb6db1bcdda9"
      },
      "source": [
        "# Check whether 1 is a root of f(x)\n",
        "func_evaluated_at_1==0"
      ],
      "execution_count": null,
      "outputs": [
        {
          "output_type": "execute_result",
          "data": {
            "text/plain": [
              "True"
            ]
          },
          "metadata": {},
          "execution_count": 23
        }
      ]
    },
    {
      "cell_type": "markdown",
      "metadata": {
        "id": "tNAI2AHRDel6"
      },
      "source": [
        "## <u> Problem 3 </u>\n",
        "\n",
        "A bag contains <code>45</code> apples, <code>65</code> oranges and <code>30</code> bananas. Find the percentage of each type of food items in the bag."
      ]
    },
    {
      "cell_type": "code",
      "metadata": {
        "id": "XJ9Rq4P3Del7",
        "colab": {
          "base_uri": "https://localhost:8080/"
        },
        "outputId": "03465823-fd7b-405a-f4d7-69b87efb49b4"
      },
      "source": [
        "# Calculate the percentage of apples and print the variable\n",
        "apples=45\n",
        "oranges=65\n",
        "bananas=30\n",
        "percentage_apple=apples/(apples+oranges+bananas)*100\n",
        "print(percentage_apple)"
      ],
      "execution_count": null,
      "outputs": [
        {
          "output_type": "stream",
          "name": "stdout",
          "text": [
            "32.142857142857146\n"
          ]
        }
      ]
    },
    {
      "cell_type": "code",
      "metadata": {
        "id": "S6lJZtaXDel9",
        "colab": {
          "base_uri": "https://localhost:8080/"
        },
        "outputId": "a1488974-9545-4293-c820-53d59f9fa9c2"
      },
      "source": [
        "# Calculate the percentage of oranges and print the variable\n",
        "percentage_oranges=oranges/(apples+oranges+bananas)*100\n",
        "print(percentage_oranges)\n"
      ],
      "execution_count": null,
      "outputs": [
        {
          "output_type": "stream",
          "name": "stdout",
          "text": [
            "46.42857142857143\n"
          ]
        }
      ]
    },
    {
      "cell_type": "code",
      "metadata": {
        "id": "mHzMnSZrDemB",
        "colab": {
          "base_uri": "https://localhost:8080/"
        },
        "outputId": "f7b540db-6451-4f52-f4f1-2ea586558ce5"
      },
      "source": [
        "# Calculate the percentage of bananas and print the variable\n",
        "percentage_bananas=bananas/(apples+oranges+bananas)*100\n",
        "print(percentage_bananas)\n"
      ],
      "execution_count": null,
      "outputs": [
        {
          "output_type": "stream",
          "name": "stdout",
          "text": [
            "21.428571428571427\n"
          ]
        }
      ]
    },
    {
      "cell_type": "markdown",
      "metadata": {
        "id": "F44LczfzDemD"
      },
      "source": [
        "## <u>Problem 4</u>\n",
        "\n",
        "You were playing a fun guessing game during your school break. There were a total of 100 participants excluding you. Out of these 100 people, 30 were Maths Majors, 45 were Economics Majors and 25 were Physics Majors.\n",
        "\n",
        "The game was divided into three rounds.\n",
        "\n",
        "* In the first round, you had to guess the number of Maths Majors and you <b>correctly</b> guessed 20 of them.\n",
        "* In the second round, you had to guess the number of Economics Majors and you <b>correctly</b> guessed 30 of them.\n",
        "* In the final third round, you had to guess the number of Physics Majors and you <b>correctly</b> guessed 20 of them.\n",
        "\n",
        "### Accuracy is defined as the number of correct guesses upon total number of people in the group (expressed in percentage)"
      ]
    },
    {
      "cell_type": "markdown",
      "metadata": {
        "id": "lkGEV_zpDemE"
      },
      "source": [
        "* ### Define your variables"
      ]
    },
    {
      "cell_type": "code",
      "metadata": {
        "id": "OfXY9LcVDemF"
      },
      "source": [
        "# Store the number of Maths majors\n",
        "\n",
        "maths_majors=30\n",
        "\n",
        "# Store the number of Economics majors\n",
        "economics_majors=45\n",
        "\n",
        "# Store the number of Physics majors\n",
        "\n",
        "physics_majors=25\n",
        "\n",
        "# Store the number of your correct guesses of Maths majors\n",
        "\n",
        "correct_guesses_maths=20\n",
        "\n",
        "# Store the number of your correct guesses of Economics majors\n",
        "\n",
        "correct_guess_economics=30\n",
        "\n",
        "# Store the number of your correct guesses of Physics majors\n",
        "\n",
        "correct_guess_physics=20"
      ],
      "execution_count": null,
      "outputs": []
    },
    {
      "cell_type": "markdown",
      "metadata": {
        "id": "Eg_Or6GmDemI"
      },
      "source": [
        "* ### Calculate your accuracy in each of the three rounds"
      ]
    },
    {
      "cell_type": "code",
      "metadata": {
        "id": "QUbDKOR3DemJ",
        "colab": {
          "base_uri": "https://localhost:8080/"
        },
        "outputId": "11158dae-1d5f-4369-c321-431b818e2a0f"
      },
      "source": [
        "# Print the Maths accuracy\n",
        "maths_accuracy=(correct_guesses_maths/maths_majors)*100\n",
        " \n",
        "print(maths_accuracy)"
      ],
      "execution_count": null,
      "outputs": [
        {
          "output_type": "stream",
          "name": "stdout",
          "text": [
            "66.66666666666666\n"
          ]
        }
      ]
    },
    {
      "cell_type": "code",
      "metadata": {
        "id": "PfX4DowhDemM",
        "colab": {
          "base_uri": "https://localhost:8080/"
        },
        "outputId": "0808f961-a50b-4c0d-967a-fe8cadcc5d40"
      },
      "source": [
        "# Print the Economics accuracy\n",
        "\n",
        "economics_accuracy=(correct_guess_economics/economics_majors)*100\n",
        "print(economics_accuracy)"
      ],
      "execution_count": null,
      "outputs": [
        {
          "output_type": "stream",
          "name": "stdout",
          "text": [
            "66.66666666666666\n"
          ]
        }
      ]
    },
    {
      "cell_type": "code",
      "metadata": {
        "id": "ZV-hzGKCDemP",
        "colab": {
          "base_uri": "https://localhost:8080/"
        },
        "outputId": "4f1469cf-689b-4d4c-b2d3-ee43330d87c3"
      },
      "source": [
        "# Print the Physics accuracy\n",
        "\n",
        "physics_accuracy=(correct_guess_physics/physics_majors)*100\n",
        "print(physics_accuracy)"
      ],
      "execution_count": null,
      "outputs": [
        {
          "output_type": "stream",
          "name": "stdout",
          "text": [
            "80.0\n"
          ]
        }
      ]
    },
    {
      "cell_type": "markdown",
      "metadata": {
        "id": "FvKZonnwDemS"
      },
      "source": [
        "* ### Calculate your overall accuracy in the entire game"
      ]
    },
    {
      "cell_type": "code",
      "metadata": {
        "id": "eP3JkusLDemT",
        "colab": {
          "base_uri": "https://localhost:8080/"
        },
        "outputId": "d04f40e2-13f1-4d38-fa3e-ff060826c746"
      },
      "source": [
        "# Print the overall accuracy\n",
        "\n",
        "overall_accuracy=(correct_guess_economics+correct_guess_physics+correct_guess_physics)/(economics_majors+physics_majors+maths_majors)*100\n",
        "print(overall_accuracy)"
      ],
      "execution_count": null,
      "outputs": [
        {
          "output_type": "stream",
          "name": "stdout",
          "text": [
            "70.0\n"
          ]
        }
      ]
    }
  ]
}